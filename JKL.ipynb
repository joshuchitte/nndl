{
  "nbformat": 4,
  "nbformat_minor": 0,
  "metadata": {
    "colab": {
      "provenance": []
    },
    "kernelspec": {
      "name": "python3",
      "display_name": "Python 3"
    },
    "language_info": {
      "name": "python"
    }
  },
  "cells": [
    {
      "cell_type": "code",
      "execution_count": null,
      "metadata": {
        "colab": {
          "base_uri": "https://localhost:8080/"
        },
        "id": "zz0RZ7Bc9rq5",
        "outputId": "b3824f51-0c0e-4844-8092-a0e6e29ff452"
      },
      "outputs": [
        {
          "name": "stdout",
          "output_type": "stream",
          "text": [
            "Enter corpus =I am Sam. Sam am I. I do not like green eggs and ham.\n"
          ]
        }
      ],
      "source": [
        "d=input(\"Enter corpus =\")"
      ]
    },
    {
      "cell_type": "code",
      "source": [
        "def  preprocess(d):\n",
        "  d=d.lower()\n",
        "  d=\"eos \" + d\n",
        "  d=d.replace(\".\",\"eos\")\n",
        "  return d\n",
        "d=preprocess(d)\n",
        "print(\"Preprocessed Data corpus =\\n\",d)\n"
      ],
      "metadata": {
        "colab": {
          "base_uri": "https://localhost:8080/"
        },
        "id": "WAbPaaGk94_J",
        "outputId": "cebcafba-c404-4367-f1ba-de9238e13a61"
      },
      "execution_count": null,
      "outputs": [
        {
          "output_type": "stream",
          "name": "stdout",
          "text": [
            "Preprocessed Data corpus =\n",
            " eos i am sameos sam am ieos i do not like green eggs and hameos\n"
          ]
        }
      ]
    },
    {
      "cell_type": "code",
      "source": [
        "import nltk\n",
        "nltk.download('punkt')\n",
        "from nltk import word_tokenize\n",
        "def generate_tokens (d):\n",
        "  tokens= word_tokenize(d)\n",
        "  return tokens\n",
        "tokens=generate_tokens (d)\n",
        "distinct_tokens = list(set (sorted (tokens)))\n",
        "print(\"Tokens in the corpus - \\n\",distinct_tokens)\n"
      ],
      "metadata": {
        "colab": {
          "base_uri": "https://localhost:8080/"
        },
        "id": "sIqLqUWP95Fw",
        "outputId": "b1e6cb2b-a942-448f-b17c-df6368c8a76d"
      },
      "execution_count": null,
      "outputs": [
        {
          "output_type": "stream",
          "name": "stdout",
          "text": [
            "Tokens in the corpus - \n",
            " ['green', 'not', 'do', 'eos', 'ieos', 'am', 'like', 'and', 'sam', 'hameos', 'i', 'sameos', 'eggs']\n"
          ]
        },
        {
          "output_type": "stream",
          "name": "stderr",
          "text": [
            "[nltk_data] Downloading package punkt to /root/nltk_data...\n",
            "[nltk_data]   Package punkt is already up-to-date!\n"
          ]
        }
      ]
    },
    {
      "cell_type": "code",
      "source": [
        "def generate_tokens_freq(tokens):\n",
        "  dct={}\n",
        "  for i in tokens:\n",
        "    dct[i]=0\n",
        "  for i in tokens:\n",
        "    dct[i]+=1\n",
        "\n",
        "  return dct\n",
        "\n",
        "dct=generate_tokens_freq(tokens)\n",
        "print(\"Frequency of each tokens \")\n",
        "for i in dct.items():\n",
        "  print(i[0],\"\\t:\", i[1])"
      ],
      "metadata": {
        "colab": {
          "base_uri": "https://localhost:8080/"
        },
        "id": "s49Xgowj95Jp",
        "outputId": "174e993f-c390-4e34-ec4d-99cbf90bb3bc"
      },
      "execution_count": null,
      "outputs": [
        {
          "output_type": "stream",
          "name": "stdout",
          "text": [
            "Frequency of each tokens \n",
            "eos \t: 1\n",
            "i \t: 2\n",
            "am \t: 2\n",
            "sameos \t: 1\n",
            "sam \t: 1\n",
            "ieos \t: 1\n",
            "do \t: 1\n",
            "not \t: 1\n",
            "like \t: 1\n",
            "green \t: 1\n",
            "eggs \t: 1\n",
            "and \t: 1\n",
            "hameos \t: 1\n"
          ]
        }
      ]
    },
    {
      "cell_type": "code",
      "source": [
        "def generate_ngrams (tokens,k):\n",
        "   l=[]\n",
        "   i=0\n",
        "   while(i<len (tokens)):\n",
        "      l.append(tokens[i:i+k])\n",
        "      i=i+1\n",
        "   l=l[:-1]\n",
        "   return l\n",
        "bigram = generate_ngrams (tokens, 2)\n",
        "print(\"N-grams generated (Here n is 2) = \")\n",
        "for i in bigram:\n",
        "   print(i)"
      ],
      "metadata": {
        "colab": {
          "base_uri": "https://localhost:8080/"
        },
        "id": "loVi3xRv95NI",
        "outputId": "c8f10b54-fb75-4aa3-d2f4-05fd6ac71af8"
      },
      "execution_count": null,
      "outputs": [
        {
          "output_type": "stream",
          "name": "stdout",
          "text": [
            "N-grams generated (Here n is 2) = \n",
            "['eos', 'i']\n",
            "['i', 'am']\n",
            "['am', 'sameos']\n",
            "['sameos', 'sam']\n",
            "['sam', 'am']\n",
            "['am', 'ieos']\n",
            "['ieos', 'i']\n",
            "['i', 'do']\n",
            "['do', 'not']\n",
            "['not', 'like']\n",
            "['like', 'green']\n",
            "['green', 'eggs']\n",
            "['eggs', 'and']\n",
            "['and', 'hameos']\n"
          ]
        }
      ]
    },
    {
      "cell_type": "code",
      "source": [
        "def generate_ngram_freq(bigram):\n",
        "  dct1={}\n",
        "  for i in bigram:\n",
        "    st=\" \".join(i)\n",
        "    dct1[st]=0\n",
        "  for i in bigram:\n",
        "    st=\" \".join(i)\n",
        "    dct1[st]+=1\n",
        "    return dct1\n",
        "dct1=generate_ngram_freq(bigram)\n",
        "print(\"Frequency of n-grams \")\n",
        "for i in dct1.items():\n",
        "   print(i[0], \":\", i[1])"
      ],
      "metadata": {
        "colab": {
          "base_uri": "https://localhost:8080/"
        },
        "id": "GBg-d4H795TD",
        "outputId": "2cea6cdb-8659-4c4b-d856-06b492f2be66"
      },
      "execution_count": null,
      "outputs": [
        {
          "output_type": "stream",
          "name": "stdout",
          "text": [
            "Frequency of n-grams \n",
            "eos i : 1\n",
            "i am : 0\n",
            "am sameos : 0\n",
            "sameos sam : 0\n",
            "sam am : 0\n",
            "am ieos : 0\n",
            "ieos i : 0\n",
            "i do : 0\n",
            "do not : 0\n",
            "not like : 0\n",
            "like green : 0\n",
            "green eggs : 0\n",
            "eggs and : 0\n",
            "and hameos : 0\n"
          ]
        }
      ]
    },
    {
      "cell_type": "code",
      "source": [
        "def find1(s,dct1):\n",
        "  try:\n",
        "      return dct1[s]\n",
        "  except:\n",
        "      return 0\n",
        "def print_probability_table(distinct_tokens, dct,dct1):\n",
        "   n=len(distinct_tokens)\n",
        "   l=[[]*n for i in range(n)]\n",
        "   for i in range(n):\n",
        "           denominator=dct[distinct_tokens[i]]\n",
        "   for j in range(n):\n",
        "           numerator=find1 (distinct_tokens[i]+\" \"+distinct_tokens[j],dct1)\n",
        "           l[i].append(float(\"{:.3f}\".format(numerator/denominator)))\n",
        "   return l"
      ],
      "metadata": {
        "id": "16_Go32NE2Zl"
      },
      "execution_count": null,
      "outputs": []
    },
    {
      "cell_type": "code",
      "source": [
        "print('Probability table = \\n')\n",
        "probability_table = print_probability_table(distinct_tokens,dct,dct1)\n",
        "n = len(distinct_tokens)\n",
        "print('\\t',end = '')\n",
        "for i in range(n):\n",
        "  print(distinct_tokens[i],end='\\t')\n",
        "print('\\n')\n",
        "for i in range(n):\n",
        "    print(distinct_tokens[i],end='\\t')\n",
        "    for j in range(n):\n",
        "       print(probability_table[i][j],end='\\t')\n",
        "    print('\\n')\n"
      ],
      "metadata": {
        "colab": {
          "base_uri": "https://localhost:8080/",
          "height": 327
        },
        "id": "H2dv9OKEE2gV",
        "outputId": "c91a17fa-81f2-4271-e488-e92e03869dc2"
      },
      "execution_count": null,
      "outputs": [
        {
          "output_type": "stream",
          "name": "stdout",
          "text": [
            "Probability table = \n",
            "\n",
            "\tgreen\tnot\tdo\teos\tieos\tam\tlike\tand\tsam\thameos\ti\tsameos\teggs\t\n",
            "\n",
            "green\t"
          ]
        },
        {
          "output_type": "error",
          "ename": "IndexError",
          "evalue": "ignored",
          "traceback": [
            "\u001b[0;31m---------------------------------------------------------------------------\u001b[0m",
            "\u001b[0;31mIndexError\u001b[0m                                Traceback (most recent call last)",
            "\u001b[0;32m<ipython-input-68-73292d4f74f3>\u001b[0m in \u001b[0;36m<cell line: 8>\u001b[0;34m()\u001b[0m\n\u001b[1;32m      9\u001b[0m     \u001b[0mprint\u001b[0m\u001b[0;34m(\u001b[0m\u001b[0mdistinct_tokens\u001b[0m\u001b[0;34m[\u001b[0m\u001b[0mi\u001b[0m\u001b[0;34m]\u001b[0m\u001b[0;34m,\u001b[0m\u001b[0mend\u001b[0m\u001b[0;34m=\u001b[0m\u001b[0;34m'\\t'\u001b[0m\u001b[0;34m)\u001b[0m\u001b[0;34m\u001b[0m\u001b[0;34m\u001b[0m\u001b[0m\n\u001b[1;32m     10\u001b[0m     \u001b[0;32mfor\u001b[0m \u001b[0mj\u001b[0m \u001b[0;32min\u001b[0m \u001b[0mrange\u001b[0m\u001b[0;34m(\u001b[0m\u001b[0mn\u001b[0m\u001b[0;34m)\u001b[0m\u001b[0;34m:\u001b[0m\u001b[0;34m\u001b[0m\u001b[0;34m\u001b[0m\u001b[0m\n\u001b[0;32m---> 11\u001b[0;31m        \u001b[0mprint\u001b[0m\u001b[0;34m(\u001b[0m\u001b[0mprobability_table\u001b[0m\u001b[0;34m[\u001b[0m\u001b[0mi\u001b[0m\u001b[0;34m]\u001b[0m\u001b[0;34m[\u001b[0m\u001b[0mj\u001b[0m\u001b[0;34m]\u001b[0m\u001b[0;34m,\u001b[0m\u001b[0mend\u001b[0m\u001b[0;34m=\u001b[0m\u001b[0;34m'\\t'\u001b[0m\u001b[0;34m)\u001b[0m\u001b[0;34m\u001b[0m\u001b[0;34m\u001b[0m\u001b[0m\n\u001b[0m\u001b[1;32m     12\u001b[0m     \u001b[0mprint\u001b[0m\u001b[0;34m(\u001b[0m\u001b[0;34m'\\n'\u001b[0m\u001b[0;34m)\u001b[0m\u001b[0;34m\u001b[0m\u001b[0;34m\u001b[0m\u001b[0m\n",
            "\u001b[0;31mIndexError\u001b[0m: list index out of range"
          ]
        }
      ]
    }
  ]
}