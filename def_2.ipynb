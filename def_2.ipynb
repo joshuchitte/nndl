{
  "nbformat": 4,
  "nbformat_minor": 0,
  "metadata": {
    "colab": {
      "provenance": []
    },
    "kernelspec": {
      "name": "python3",
      "display_name": "Python 3"
    },
    "language_info": {
      "name": "python"
    }
  },
  "cells": [
    {
      "cell_type": "markdown",
      "source": [
        "**Space Tokenization**"
      ],
      "metadata": {
        "id": "-peWWTRsQfbA"
      }
    },
    {
      "cell_type": "code",
      "execution_count": null,
      "metadata": {
        "id": "IA5-eu5pQOG_",
        "colab": {
          "base_uri": "https://localhost:8080/"
        },
        "outputId": "072a5c99-9402-4e34-9f63-827b5bce2f50"
      },
      "outputs": [
        {
          "output_type": "stream",
          "name": "stdout",
          "text": [
            "['The', 'Subject', 'contents', 'are', 'very', 'very', 'very', 'much', 'related', 'to', 'NLP', 'subject', 'and', 'MLC', 'subject']\n",
            "15\n"
          ]
        }
      ],
      "source": [
        "from nltk.tokenize import SpaceTokenizer\n",
        "tk = SpaceTokenizer()\n",
        "text = \"The Subject contents are very very very much related to NLP subject and MLC subject\"\n",
        "space = tk.tokenize(text)\n",
        "print(space)\n",
        "tokens = len(space)\n",
        "print(tokens)\n"
      ]
    },
    {
      "cell_type": "markdown",
      "source": [
        "**Case Folding**"
      ],
      "metadata": {
        "id": "nGtrO_ntXhjp"
      }
    },
    {
      "cell_type": "code",
      "source": [
        "space_tokens_lc = [word.lower() for word in space]\n",
        "\n",
        "#see the result\n",
        "print(space_tokens_lc)"
      ],
      "metadata": {
        "colab": {
          "base_uri": "https://localhost:8080/"
        },
        "id": "cyp1qo3MWKNY",
        "outputId": "447a051d-024f-49d3-be2a-83de5f91954f"
      },
      "execution_count": null,
      "outputs": [
        {
          "output_type": "stream",
          "name": "stdout",
          "text": [
            "['the', 'subject', 'contents', 'are', 'very', 'very', 'very', 'much', 'related', 'to', 'nlp', 'subject', 'and', 'mlc', 'subject']\n"
          ]
        }
      ]
    },
    {
      "cell_type": "markdown",
      "source": [
        "**Stop Words Removal**"
      ],
      "metadata": {
        "id": "nA8FeiaaXcbZ"
      }
    },
    {
      "cell_type": "code",
      "source": [
        "#import the stopwords list\n",
        "import nltk\n",
        "nltk.download('stopwords')\n",
        "from nltk.corpus import stopwords\n",
        "\n",
        "#take a look at what stop words are included:\n",
        "STOP= stopwords.words('english')\n",
        "print(STOP)\n"
      ],
      "metadata": {
        "colab": {
          "base_uri": "https://localhost:8080/"
        },
        "id": "1zR5EcUNWQij",
        "outputId": "3023b10c-875d-4f77-ef83-452a1fb37338"
      },
      "execution_count": null,
      "outputs": [
        {
          "output_type": "stream",
          "name": "stdout",
          "text": [
            "['i', 'me', 'my', 'myself', 'we', 'our', 'ours', 'ourselves', 'you', \"you're\", \"you've\", \"you'll\", \"you'd\", 'your', 'yours', 'yourself', 'yourselves', 'he', 'him', 'his', 'himself', 'she', \"she's\", 'her', 'hers', 'herself', 'it', \"it's\", 'its', 'itself', 'they', 'them', 'their', 'theirs', 'themselves', 'what', 'which', 'who', 'whom', 'this', 'that', \"that'll\", 'these', 'those', 'am', 'is', 'are', 'was', 'were', 'be', 'been', 'being', 'have', 'has', 'had', 'having', 'do', 'does', 'did', 'doing', 'a', 'an', 'the', 'and', 'but', 'if', 'or', 'because', 'as', 'until', 'while', 'of', 'at', 'by', 'for', 'with', 'about', 'against', 'between', 'into', 'through', 'during', 'before', 'after', 'above', 'below', 'to', 'from', 'up', 'down', 'in', 'out', 'on', 'off', 'over', 'under', 'again', 'further', 'then', 'once', 'here', 'there', 'when', 'where', 'why', 'how', 'all', 'any', 'both', 'each', 'few', 'more', 'most', 'other', 'some', 'such', 'no', 'nor', 'not', 'only', 'own', 'same', 'so', 'than', 'too', 'very', 's', 't', 'can', 'will', 'just', 'don', \"don't\", 'should', \"should've\", 'now', 'd', 'll', 'm', 'o', 're', 've', 'y', 'ain', 'aren', \"aren't\", 'couldn', \"couldn't\", 'didn', \"didn't\", 'doesn', \"doesn't\", 'hadn', \"hadn't\", 'hasn', \"hasn't\", 'haven', \"haven't\", 'isn', \"isn't\", 'ma', 'mightn', \"mightn't\", 'mustn', \"mustn't\", 'needn', \"needn't\", 'shan', \"shan't\", 'shouldn', \"shouldn't\", 'wasn', \"wasn't\", 'weren', \"weren't\", 'won', \"won't\", 'wouldn', \"wouldn't\"]\n"
          ]
        },
        {
          "output_type": "stream",
          "name": "stderr",
          "text": [
            "[nltk_data] Downloading package stopwords to /root/nltk_data...\n",
            "[nltk_data]   Unzipping corpora/stopwords.zip.\n"
          ]
        }
      ]
    },
    {
      "cell_type": "code",
      "source": [
        "word_tokens_clean=[word for word in space_tokens_lc if word not in STOP]\n",
        "print(word_tokens_clean)"
      ],
      "metadata": {
        "colab": {
          "base_uri": "https://localhost:8080/"
        },
        "id": "lhF-zKB4WQlk",
        "outputId": "bd64bd05-46d5-424a-a2ff-fcd366523247"
      },
      "execution_count": null,
      "outputs": [
        {
          "output_type": "stream",
          "name": "stdout",
          "text": [
            "['subject', 'contents', 'much', 'related', 'nlp', 'subject', 'mlc', 'subject']\n"
          ]
        }
      ]
    },
    {
      "cell_type": "markdown",
      "source": [
        "**Type Token Ratio**"
      ],
      "metadata": {
        "id": "_338FkhZXULs"
      }
    },
    {
      "cell_type": "code",
      "source": [
        "print(space)"
      ],
      "metadata": {
        "colab": {
          "base_uri": "https://localhost:8080/"
        },
        "id": "CtKOcxVpWQs7",
        "outputId": "c0f09098-4afd-4889-9e36-5012ebc53c61"
      },
      "execution_count": null,
      "outputs": [
        {
          "output_type": "stream",
          "name": "stdout",
          "text": [
            "['The', 'Subject', 'contents', 'are', 'very', 'very', 'very', 'much', 'related', 'to', 'NLP', 'subject', 'and', 'MLC', 'subject']\n"
          ]
        }
      ]
    },
    {
      "cell_type": "code",
      "source": [
        "#a=set(space)\n",
        "#b=list(a)\n",
        "#c=len(b)\n",
        "#print(c)\n",
        "Type_words=list(set(space))\n",
        "print(Type_words)\n",
        "Type=len(Type_words)\n",
        "print(Type)"
      ],
      "metadata": {
        "colab": {
          "base_uri": "https://localhost:8080/"
        },
        "id": "uKM275JeWQwy",
        "outputId": "84523af7-c7f1-4ec1-8c84-8d8b5d671178"
      },
      "execution_count": null,
      "outputs": [
        {
          "output_type": "stream",
          "name": "stdout",
          "text": [
            "['very', 'subject', 'NLP', 'are', 'and', 'much', 'MLC', 'contents', 'related', 'The', 'to', 'Subject']\n",
            "12\n"
          ]
        }
      ]
    },
    {
      "cell_type": "code",
      "source": [
        "TTR=(Type/tokens)\n",
        "print(TTR)"
      ],
      "metadata": {
        "colab": {
          "base_uri": "https://localhost:8080/"
        },
        "id": "BEY3pWz6Wgh0",
        "outputId": "7aa0bfbc-1151-4225-e4bd-e12fe1e738ff"
      },
      "execution_count": null,
      "outputs": [
        {
          "output_type": "stream",
          "name": "stdout",
          "text": [
            "0.8\n"
          ]
        }
      ]
    }
  ]
}