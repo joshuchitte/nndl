{
  "nbformat": 4,
  "nbformat_minor": 0,
  "metadata": {
    "colab": {
      "provenance": []
    },
    "kernelspec": {
      "name": "python3",
      "display_name": "Python 3"
    },
    "language_info": {
      "name": "python"
    }
  },
  "cells": [
    {
      "cell_type": "code",
      "execution_count": null,
      "metadata": {
        "id": "6I88wQJEk6FK"
      },
      "outputs": [],
      "source": [
        "Doc1 = [\"With the Union cabinet approving the amendments to the Motor Vehicles Act, 2016, those caught for drunken driving will have to have really deep pockets, as the fine payable in court has been enhanced to Rs 10,000 for first-time offenders.\" ]\n",
        "\n",
        "Doc2 = [\"Natural language processing (NLP) is an area of computer science and artificial intelligence concerned with the interactions between computers and human (natural) languages, in particular how to program computers to process and analyze large amounts of natural language data.\"]\n",
        "\n",
        "Doc3 = [\"He points out that public transport is very good in Mumbai and New Delhi, where there is a good network of suburban and metro rail systems.\"]\n",
        "\n",
        "Doc4 = [\"But the man behind the wickets at the other end was watching just as keenly. With an affirmative nod from Dhoni, India captain Rohit Sharma promptly asked for a review. Sure enough, the ball would have clipped the top of middle and leg.\"]\n",
        "\n",
        "Doc5 = ['The education system plays a pivotal role in shaping the future of society by providing individuals with the knowledge and skills necessary to succeed in life. It encompasses various levels, from early childhood education to higher education, and aims to foster intellectual development, critical thinking, and personal growth. A strong education system not only imparts academic knowledge but also promotes social integration, character development, and the pursuit of lifelong learning.']\n",
        "\n",
        "Doc6 =[\" The development of vaccines, pharmaceuticals, and medical devices has significantly extended life expectancy and enhanced our ability to combat various diseases. In the face of global health challenges, such as the COVID-19 pandemic, medical science has played a crucial role in global response efforts, highlighting the vital importance of a robust and adaptable healthcare system. Medical research continues to unlock new frontiers, offering hope for better and more personalized healthcare solutions in the future.\"]\n",
        "\n",
        "Doc7 =[\"Aviation is a dynamic and essential industry that encompasses the design, manufacturing, operation, and maintenance of aircraft. From commercial airlines connecting people across the globe to military aviation safeguarding nations, the field of aviation is a critical pillar of modern society. It continues to advance with cutting-edge technology, making air travel safer, more efficient, and environmentally friendly. The aviation sector is not only about airplanes but also includes helicopters, drones, and spacecraft, contributing to economic growth, global connectivity, and scientific exploration. This industry holds the promise of an exciting future, with ongoing innovations that improve both travel and our understanding of the world beyond our atmosphere.\"]"
      ]
    },
    {
      "cell_type": "code",
      "source": [
        "import nltk\n",
        "nltk.download ('stopwords')"
      ],
      "metadata": {
        "colab": {
          "base_uri": "https://localhost:8080/"
        },
        "id": "n9ewnUJDmRG8",
        "outputId": "415a8f2e-12b7-4fe3-9ba6-878bfd25e31d"
      },
      "execution_count": null,
      "outputs": [
        {
          "output_type": "stream",
          "name": "stderr",
          "text": [
            "[nltk_data] Downloading package stopwords to /root/nltk_data...\n",
            "[nltk_data]   Package stopwords is already up-to-date!\n"
          ]
        },
        {
          "output_type": "execute_result",
          "data": {
            "text/plain": [
              "True"
            ]
          },
          "metadata": {},
          "execution_count": 15
        }
      ]
    },
    {
      "cell_type": "code",
      "source": [
        "import nltk\n",
        "nltk.download ('punkt')"
      ],
      "metadata": {
        "colab": {
          "base_uri": "https://localhost:8080/"
        },
        "id": "e9ZEAP6qmlx3",
        "outputId": "2a5c2c76-33f5-4827-a8a3-2f5f6eb8c77c"
      },
      "execution_count": null,
      "outputs": [
        {
          "output_type": "stream",
          "name": "stderr",
          "text": [
            "[nltk_data] Downloading package punkt to /root/nltk_data...\n",
            "[nltk_data]   Package punkt is already up-to-date!\n"
          ]
        },
        {
          "output_type": "execute_result",
          "data": {
            "text/plain": [
              "True"
            ]
          },
          "metadata": {},
          "execution_count": 16
        }
      ]
    },
    {
      "cell_type": "code",
      "source": [
        "#Step 7.1.1: Import the libraries\n",
        "\n",
        "import gensim\n",
        "from gensim.models import Word2Vec\n",
        "import numpy as np\n",
        "import nltk\n",
        "import itertools\n",
        "from nltk.corpus import stopwords\n",
        "from nltk.tokenize import sent_tokenize, word_tokenize\n",
        "import scipy\n",
        "from scipy import spatial\n",
        "from nltk.tokenize.toktok import ToktokTokenizer\n",
        "import re\n",
        "tokenizer =ToktokTokenizer()\n",
        "stopword_list=nltk.corpus.stopwords.words('english')"
      ],
      "metadata": {
        "id": "wfS7uuXCmoji"
      },
      "execution_count": null,
      "outputs": []
    },
    {
      "cell_type": "code",
      "source": [
        "# Step 7.1.2 - Create/import documents\n",
        "#Doct Doc2, Doc3 and Doc4 as defined above in the code.\n",
        "#Put all the documents in one 11st\n",
        "fin=Doc1+Doc2+Doc3+Doc4+Doc5+Doc6+Doc7\n",
        "print(fin)"
      ],
      "metadata": {
        "id": "Fqsilz9Env_T",
        "colab": {
          "base_uri": "https://localhost:8080/"
        },
        "outputId": "d7733147-e9d4-4c16-beca-0a38ea5238bd"
      },
      "execution_count": null,
      "outputs": [
        {
          "output_type": "stream",
          "name": "stdout",
          "text": [
            "['With the Union cabinet approving the amendments to the Motor Vehicles Act, 2016, those caught for drunken driving will have to have really deep pockets, as the fine payable in court has been enhanced to Rs 10,000 for first-time offenders.', 'Natural language processing (NLP) is an area of computer science and artificial intelligence concerned with the interactions between computers and human (natural) languages, in particular how to program computers to process and analyze large amounts of natural language data.', 'He points out that public transport is very good in Mumbai and New Delhi, where there is a good network of suburban and metro rail systems.', 'But the man behind the wickets at the other end was watching just as keenly. With an affirmative nod from Dhoni, India captain Rohit Sharma promptly asked for a review. Sure enough, the ball would have clipped the top of middle and leg.', 'The education system plays a pivotal role in shaping the future of society by providing individuals with the knowledge and skills necessary to succeed in life. It encompasses various levels, from early childhood education to higher education, and aims to foster intellectual development, critical thinking, and personal growth. A strong education system not only imparts academic knowledge but also promotes social integration, character development, and the pursuit of lifelong learning.', ' The development of vaccines, pharmaceuticals, and medical devices has significantly extended life expectancy and enhanced our ability to combat various diseases. In the face of global health challenges, such as the COVID-19 pandemic, medical science has played a crucial role in global response efforts, highlighting the vital importance of a robust and adaptable healthcare system. Medical research continues to unlock new frontiers, offering hope for better and more personalized healthcare solutions in the future.', 'Aviation is a dynamic and essential industry that encompasses the design, manufacturing, operation, and maintenance of aircraft. From commercial airlines connecting people across the globe to military aviation safeguarding nations, the field of aviation is a critical pillar of modern society. It continues to advance with cutting-edge technology, making air travel safer, more efficient, and environmentally friendly. The aviation sector is not only about airplanes but also includes helicopters, drones, and spacecraft, contributing to economic growth, global connectivity, and scientific exploration. This industry holds the promise of an exciting future, with ongoing innovations that improve both travel and our understanding of the world beyond our atmosphere.']\n"
          ]
        }
      ]
    },
    {
      "cell_type": "code",
      "source": [
        "# import gensim package\n",
        " #import gensim\n",
        "#load the saved model\n",
        "#model- gensin.models.KeyedVectors.load_word2vec_format(/http://diufe6q8s juo99.cloudfront.net/public/GoogleNews-vectors-negative380.bin. ## http://diufe8q8sjuo99.cloudfront.net/public/GoogleNews-vectors-negative38e.bin.gz\n",
        "import gensim.downloader as api\n",
        "wv=api.load('word2vec-google-news-300')"
      ],
      "metadata": {
        "colab": {
          "base_uri": "https://localhost:8080/"
        },
        "id": "PX8tT49En8Ty",
        "outputId": "02a8ede4-78cf-415c-a4fd-246b3543ce80"
      },
      "execution_count": null,
      "outputs": [
        {
          "output_type": "stream",
          "name": "stdout",
          "text": [
            "[==================================================] 100.0% 1662.8/1662.8MB downloaded\n"
          ]
        }
      ]
    },
    {
      "cell_type": "code",
      "source": [
        " #print (model)\n",
        "#print (gensin.models. Word2Vec0)"
      ],
      "metadata": {
        "id": "zcVeu2ipoMHZ"
      },
      "execution_count": null,
      "outputs": []
    },
    {
      "cell_type": "code",
      "source": [
        "# Step 7.1.4: Create IR system\n",
        "#Now we build the information retrieval system:\n",
        "# Preprocessing\n",
        "def remove_stopwords(text, is_lower_case=False):\n",
        "  pattern= r'[^a-zA-Z0-9\\s]'\n",
        "  text= re.sub(pattern,\"\", text)\n",
        "  tokens= tokenizer.tokenize(text)\n",
        "  tokens =[token.strip() for token in tokens]\n",
        "  if is_lower_case:\n",
        "    filtered_tokens =[token for token in tokens if token not in stopword_list]\n",
        "  else:\n",
        "    filtered_tokens =[token for token in tokens if token.lower() not in stopword_list]\n",
        "    filtered_text=''.join(filtered_tokens)\n",
        "  return filtered_text"
      ],
      "metadata": {
        "id": "1eMQBZiOoQZh"
      },
      "execution_count": null,
      "outputs": []
    },
    {
      "cell_type": "code",
      "source": [
        "#Function to get the embedding vector for n dimension, we have used \"300\"\n",
        "def get_embedding(word):\n",
        "  if word in wv.key_to_index:\n",
        "     return wv[word]\n",
        "  else:\n",
        "     return np.zeros(300)"
      ],
      "metadata": {
        "id": "W8SZVCLSpfFq"
      },
      "execution_count": null,
      "outputs": []
    },
    {
      "cell_type": "code",
      "source": [
        "#just to see the word vector for some word.\n",
        "print(wv['cricket'])\n",
        "print(\"-------------------------------------------\")\n",
        "print(len(wv['cricket']))\n",
        "print(np.mean(np.array(wv['cricket']), axis=0))"
      ],
      "metadata": {
        "colab": {
          "base_uri": "https://localhost:8080/"
        },
        "id": "gPoCD10epx8i",
        "outputId": "7b6a3286-8b7b-4a9a-cf5d-fa4b67af6e02"
      },
      "execution_count": null,
      "outputs": [
        {
          "output_type": "stream",
          "name": "stdout",
          "text": [
            "[-3.67187500e-01 -1.21582031e-01  2.85156250e-01  8.15429688e-02\n",
            "  3.19824219e-02 -3.19824219e-02  1.34765625e-01 -2.73437500e-01\n",
            "  9.46044922e-03 -1.07421875e-01  2.48046875e-01 -6.05468750e-01\n",
            "  5.02929688e-02  2.98828125e-01  9.57031250e-02  1.39648438e-01\n",
            " -5.41992188e-02  2.91015625e-01  2.85156250e-01  1.51367188e-01\n",
            " -2.89062500e-01 -3.46679688e-02  1.81884766e-02 -3.92578125e-01\n",
            "  2.46093750e-01  2.51953125e-01 -9.86328125e-02  3.22265625e-01\n",
            "  4.49218750e-01 -1.36718750e-01 -2.34375000e-01  4.12597656e-02\n",
            " -2.15820312e-01  1.69921875e-01  2.56347656e-02  1.50146484e-02\n",
            " -3.75976562e-02  6.95800781e-03  4.00390625e-01  2.09960938e-01\n",
            "  1.17675781e-01 -4.19921875e-02  2.34375000e-01  2.03125000e-01\n",
            " -1.86523438e-01 -2.46093750e-01  3.12500000e-01 -2.59765625e-01\n",
            " -1.06933594e-01  1.04003906e-01 -1.79687500e-01  5.71289062e-02\n",
            " -7.41577148e-03 -5.59082031e-02  7.61718750e-02 -4.14062500e-01\n",
            " -3.65234375e-01 -3.35937500e-01 -1.54296875e-01 -2.39257812e-01\n",
            " -3.73046875e-01  2.27355957e-03 -3.51562500e-01  8.64257812e-02\n",
            "  1.26953125e-01  2.21679688e-01 -9.86328125e-02  1.08886719e-01\n",
            "  3.65234375e-01 -5.66406250e-02  5.66406250e-02 -1.09375000e-01\n",
            " -1.66992188e-01 -4.54101562e-02 -2.00195312e-01 -1.22558594e-01\n",
            "  1.31835938e-01 -1.31835938e-01  1.03027344e-01 -3.41796875e-01\n",
            " -1.57226562e-01  2.04101562e-01  4.39453125e-02  2.44140625e-01\n",
            " -3.19824219e-02  3.20312500e-01 -4.41894531e-02  1.08398438e-01\n",
            " -4.98046875e-02 -9.52148438e-03  2.46093750e-01 -5.59082031e-02\n",
            "  4.07714844e-02 -1.78222656e-02 -2.95410156e-02  1.65039062e-01\n",
            "  5.03906250e-01 -2.81250000e-01  9.81445312e-02  1.80664062e-02\n",
            " -1.83593750e-01  2.53906250e-01  2.25585938e-01  1.63574219e-02\n",
            "  1.81640625e-01  1.38671875e-01  3.33984375e-01  1.39648438e-01\n",
            "  1.45874023e-02 -2.89306641e-02 -8.39843750e-02  1.50390625e-01\n",
            "  1.67968750e-01  2.28515625e-01  3.59375000e-01  1.22558594e-01\n",
            " -3.28125000e-01 -1.56250000e-01  2.77343750e-01  1.77001953e-02\n",
            " -1.46484375e-01 -4.51660156e-03 -4.46777344e-02  1.75781250e-01\n",
            " -3.75000000e-01  1.16699219e-01 -1.39648438e-01  2.55859375e-01\n",
            " -1.96289062e-01 -2.57568359e-02 -5.41992188e-02 -2.51464844e-02\n",
            " -1.93359375e-01 -3.17382812e-02 -8.74023438e-02 -1.32812500e-01\n",
            " -2.12402344e-02  4.33593750e-01 -5.20019531e-02  3.46679688e-02\n",
            "  8.00781250e-02  3.41796875e-02  1.99218750e-01 -2.39257812e-02\n",
            " -2.37304688e-01  1.93359375e-01  7.32421875e-02 -2.87109375e-01\n",
            "  1.25000000e-01  8.44726562e-02  1.30859375e-01 -2.19726562e-01\n",
            " -1.61132812e-01 -2.63671875e-01 -5.46875000e-01 -2.96875000e-01\n",
            "  3.44238281e-02 -2.87109375e-01 -1.93359375e-01 -1.61132812e-01\n",
            " -3.84765625e-01 -2.14843750e-01 -6.22558594e-03 -1.27929688e-01\n",
            " -1.00097656e-01 -6.21093750e-01  3.78906250e-01 -4.58984375e-01\n",
            "  1.44531250e-01 -9.13085938e-02 -3.08593750e-01  2.23632812e-01\n",
            "  7.86132812e-02 -2.16796875e-01  8.78906250e-02 -1.66992188e-01\n",
            "  1.14746094e-02 -2.53906250e-01 -6.25000000e-02  6.04248047e-03\n",
            "  1.56250000e-01  4.37500000e-01 -2.23632812e-01 -2.32421875e-01\n",
            "  2.75390625e-01  2.39257812e-01  4.49218750e-02 -7.51953125e-02\n",
            "  5.74218750e-01 -2.61230469e-02 -1.21582031e-01  2.44140625e-01\n",
            " -3.37890625e-01  8.59375000e-02 -7.71484375e-02  4.85839844e-02\n",
            "  1.43554688e-01  4.25781250e-01 -4.29687500e-02 -1.08398438e-01\n",
            "  1.19628906e-01 -1.91406250e-01 -2.12890625e-01 -2.87109375e-01\n",
            " -1.14746094e-01 -2.04101562e-01 -2.06298828e-02 -2.53906250e-01\n",
            "  8.25195312e-02 -3.97949219e-02 -1.57226562e-01  1.34765625e-01\n",
            "  2.08007812e-01 -1.78710938e-01 -2.00195312e-02 -8.34960938e-02\n",
            " -1.20605469e-01  4.29687500e-02 -1.94335938e-01 -1.32812500e-01\n",
            " -2.17285156e-02 -2.35351562e-01 -3.63281250e-01  1.51367188e-01\n",
            "  9.32617188e-02  1.63085938e-01  1.02050781e-01 -4.27734375e-01\n",
            "  2.83203125e-01  2.74658203e-04 -3.20312500e-01  1.68457031e-02\n",
            "  4.06250000e-01 -5.24902344e-02  7.91015625e-02 -1.41601562e-01\n",
            "  5.27343750e-01 -1.26953125e-01  4.74609375e-01 -6.64062500e-02\n",
            "  3.41796875e-01 -1.78710938e-01  3.69140625e-01 -2.05078125e-01\n",
            "  5.82885742e-03 -1.84570312e-01 -8.88671875e-02 -1.81640625e-01\n",
            " -4.80957031e-02  4.39453125e-01  2.12890625e-01 -3.07617188e-02\n",
            "  9.32617188e-02  2.40234375e-01  2.39257812e-01  2.51953125e-01\n",
            " -1.98974609e-02  1.24511719e-01 -4.73632812e-02 -2.13623047e-02\n",
            "  3.12500000e-02  3.05175781e-02  2.79296875e-01  9.08203125e-02\n",
            " -2.02148438e-01 -2.19726562e-02 -2.63671875e-01  8.78906250e-02\n",
            " -1.07421875e-01 -2.49023438e-01 -1.22070312e-02  1.73828125e-01\n",
            " -9.91210938e-02  7.27539062e-02  2.59765625e-01 -4.60937500e-01\n",
            "  3.59375000e-01 -2.25585938e-01  1.87988281e-02 -2.19726562e-01\n",
            " -2.08984375e-01 -1.51367188e-01  8.64257812e-02  1.11694336e-02\n",
            "  6.93359375e-02 -2.99072266e-02  1.43554688e-01  1.89453125e-01\n",
            " -1.32812500e-01  4.72656250e-01 -1.40625000e-01 -2.52685547e-02\n",
            "  1.91406250e-01 -2.63671875e-01 -1.39648438e-01  1.09375000e-01\n",
            "  1.97753906e-02  2.49023438e-01 -1.42578125e-01  4.15039062e-02]\n",
            "-------------------------------------------\n",
            "300\n",
            "-0.0021000672\n"
          ]
        }
      ]
    },
    {
      "cell_type": "code",
      "source": [
        "#just to see no. of words in Doc1\n",
        "print(len(tokenizer.tokenize (Doc1)))\n",
        "#so, we would get 47 word vectors, each of size 300.\n",
        "#One vector for one word.\n",
        "#so, we could get the mean of each vector #so that we reduce of the values we have to handle"
      ],
      "metadata": {
        "colab": {
          "base_uri": "https://localhost:8080/"
        },
        "id": "7k-_j3IjqtBy",
        "outputId": "a29cf1e5-8e26-458f-c5a3-e31fe4ab5119"
      },
      "execution_count": null,
      "outputs": [
        {
          "output_type": "stream",
          "name": "stdout",
          "text": [
            "47\n"
          ]
        }
      ]
    },
    {
      "cell_type": "code",
      "source": [
        "#Getting average vector for each document\n",
        "out_dict={}\n",
        "for sen in fin: #this loop will pick one sentence at a time from fin (final document)\n",
        "    average_vector=(np.mean(np.array([get_embedding(x) for x in nltk.word_tokenize(remove_stopwords (sen))]), axis=0))\n",
        "    dict ={sen : (average_vector)}\n",
        "    out_dict.update(dict)\n",
        "#Function to calculate the similarity between the query vector and document vector\n",
        "def get_sim(query_embedding, average_vector_doc):\n",
        "  sim=[(1- scipy.spatial.distance.cosine (query_embedding, average_vector_doc))]\n",
        "  return sim"
      ],
      "metadata": {
        "id": "1EE42K_rq3RR"
      },
      "execution_count": null,
      "outputs": []
    },
    {
      "cell_type": "code",
      "source": [
        "print(out_dict)"
      ],
      "metadata": {
        "colab": {
          "base_uri": "https://localhost:8080/"
        },
        "id": "kTOc393wsEqC",
        "outputId": "24f1c7a1-2821-4c43-d209-3b933c4bb77d"
      },
      "execution_count": null,
      "outputs": [
        {
          "output_type": "stream",
          "name": "stdout",
          "text": [
            "{'With the Union cabinet approving the amendments to the Motor Vehicles Act, 2016, those caught for drunken driving will have to have really deep pockets, as the fine payable in court has been enhanced to Rs 10,000 for first-time offenders.': array([0., 0., 0., 0., 0., 0., 0., 0., 0., 0., 0., 0., 0., 0., 0., 0., 0.,\n",
            "       0., 0., 0., 0., 0., 0., 0., 0., 0., 0., 0., 0., 0., 0., 0., 0., 0.,\n",
            "       0., 0., 0., 0., 0., 0., 0., 0., 0., 0., 0., 0., 0., 0., 0., 0., 0.,\n",
            "       0., 0., 0., 0., 0., 0., 0., 0., 0., 0., 0., 0., 0., 0., 0., 0., 0.,\n",
            "       0., 0., 0., 0., 0., 0., 0., 0., 0., 0., 0., 0., 0., 0., 0., 0., 0.,\n",
            "       0., 0., 0., 0., 0., 0., 0., 0., 0., 0., 0., 0., 0., 0., 0., 0., 0.,\n",
            "       0., 0., 0., 0., 0., 0., 0., 0., 0., 0., 0., 0., 0., 0., 0., 0., 0.,\n",
            "       0., 0., 0., 0., 0., 0., 0., 0., 0., 0., 0., 0., 0., 0., 0., 0., 0.,\n",
            "       0., 0., 0., 0., 0., 0., 0., 0., 0., 0., 0., 0., 0., 0., 0., 0., 0.,\n",
            "       0., 0., 0., 0., 0., 0., 0., 0., 0., 0., 0., 0., 0., 0., 0., 0., 0.,\n",
            "       0., 0., 0., 0., 0., 0., 0., 0., 0., 0., 0., 0., 0., 0., 0., 0., 0.,\n",
            "       0., 0., 0., 0., 0., 0., 0., 0., 0., 0., 0., 0., 0., 0., 0., 0., 0.,\n",
            "       0., 0., 0., 0., 0., 0., 0., 0., 0., 0., 0., 0., 0., 0., 0., 0., 0.,\n",
            "       0., 0., 0., 0., 0., 0., 0., 0., 0., 0., 0., 0., 0., 0., 0., 0., 0.,\n",
            "       0., 0., 0., 0., 0., 0., 0., 0., 0., 0., 0., 0., 0., 0., 0., 0., 0.,\n",
            "       0., 0., 0., 0., 0., 0., 0., 0., 0., 0., 0., 0., 0., 0., 0., 0., 0.,\n",
            "       0., 0., 0., 0., 0., 0., 0., 0., 0., 0., 0., 0., 0., 0., 0., 0., 0.,\n",
            "       0., 0., 0., 0., 0., 0., 0., 0., 0., 0., 0.]), 'Natural language processing (NLP) is an area of computer science and artificial intelligence concerned with the interactions between computers and human (natural) languages, in particular how to program computers to process and analyze large amounts of natural language data.': array([0., 0., 0., 0., 0., 0., 0., 0., 0., 0., 0., 0., 0., 0., 0., 0., 0.,\n",
            "       0., 0., 0., 0., 0., 0., 0., 0., 0., 0., 0., 0., 0., 0., 0., 0., 0.,\n",
            "       0., 0., 0., 0., 0., 0., 0., 0., 0., 0., 0., 0., 0., 0., 0., 0., 0.,\n",
            "       0., 0., 0., 0., 0., 0., 0., 0., 0., 0., 0., 0., 0., 0., 0., 0., 0.,\n",
            "       0., 0., 0., 0., 0., 0., 0., 0., 0., 0., 0., 0., 0., 0., 0., 0., 0.,\n",
            "       0., 0., 0., 0., 0., 0., 0., 0., 0., 0., 0., 0., 0., 0., 0., 0., 0.,\n",
            "       0., 0., 0., 0., 0., 0., 0., 0., 0., 0., 0., 0., 0., 0., 0., 0., 0.,\n",
            "       0., 0., 0., 0., 0., 0., 0., 0., 0., 0., 0., 0., 0., 0., 0., 0., 0.,\n",
            "       0., 0., 0., 0., 0., 0., 0., 0., 0., 0., 0., 0., 0., 0., 0., 0., 0.,\n",
            "       0., 0., 0., 0., 0., 0., 0., 0., 0., 0., 0., 0., 0., 0., 0., 0., 0.,\n",
            "       0., 0., 0., 0., 0., 0., 0., 0., 0., 0., 0., 0., 0., 0., 0., 0., 0.,\n",
            "       0., 0., 0., 0., 0., 0., 0., 0., 0., 0., 0., 0., 0., 0., 0., 0., 0.,\n",
            "       0., 0., 0., 0., 0., 0., 0., 0., 0., 0., 0., 0., 0., 0., 0., 0., 0.,\n",
            "       0., 0., 0., 0., 0., 0., 0., 0., 0., 0., 0., 0., 0., 0., 0., 0., 0.,\n",
            "       0., 0., 0., 0., 0., 0., 0., 0., 0., 0., 0., 0., 0., 0., 0., 0., 0.,\n",
            "       0., 0., 0., 0., 0., 0., 0., 0., 0., 0., 0., 0., 0., 0., 0., 0., 0.,\n",
            "       0., 0., 0., 0., 0., 0., 0., 0., 0., 0., 0., 0., 0., 0., 0., 0., 0.,\n",
            "       0., 0., 0., 0., 0., 0., 0., 0., 0., 0., 0.]), 'He points out that public transport is very good in Mumbai and New Delhi, where there is a good network of suburban and metro rail systems.': array([0., 0., 0., 0., 0., 0., 0., 0., 0., 0., 0., 0., 0., 0., 0., 0., 0.,\n",
            "       0., 0., 0., 0., 0., 0., 0., 0., 0., 0., 0., 0., 0., 0., 0., 0., 0.,\n",
            "       0., 0., 0., 0., 0., 0., 0., 0., 0., 0., 0., 0., 0., 0., 0., 0., 0.,\n",
            "       0., 0., 0., 0., 0., 0., 0., 0., 0., 0., 0., 0., 0., 0., 0., 0., 0.,\n",
            "       0., 0., 0., 0., 0., 0., 0., 0., 0., 0., 0., 0., 0., 0., 0., 0., 0.,\n",
            "       0., 0., 0., 0., 0., 0., 0., 0., 0., 0., 0., 0., 0., 0., 0., 0., 0.,\n",
            "       0., 0., 0., 0., 0., 0., 0., 0., 0., 0., 0., 0., 0., 0., 0., 0., 0.,\n",
            "       0., 0., 0., 0., 0., 0., 0., 0., 0., 0., 0., 0., 0., 0., 0., 0., 0.,\n",
            "       0., 0., 0., 0., 0., 0., 0., 0., 0., 0., 0., 0., 0., 0., 0., 0., 0.,\n",
            "       0., 0., 0., 0., 0., 0., 0., 0., 0., 0., 0., 0., 0., 0., 0., 0., 0.,\n",
            "       0., 0., 0., 0., 0., 0., 0., 0., 0., 0., 0., 0., 0., 0., 0., 0., 0.,\n",
            "       0., 0., 0., 0., 0., 0., 0., 0., 0., 0., 0., 0., 0., 0., 0., 0., 0.,\n",
            "       0., 0., 0., 0., 0., 0., 0., 0., 0., 0., 0., 0., 0., 0., 0., 0., 0.,\n",
            "       0., 0., 0., 0., 0., 0., 0., 0., 0., 0., 0., 0., 0., 0., 0., 0., 0.,\n",
            "       0., 0., 0., 0., 0., 0., 0., 0., 0., 0., 0., 0., 0., 0., 0., 0., 0.,\n",
            "       0., 0., 0., 0., 0., 0., 0., 0., 0., 0., 0., 0., 0., 0., 0., 0., 0.,\n",
            "       0., 0., 0., 0., 0., 0., 0., 0., 0., 0., 0., 0., 0., 0., 0., 0., 0.,\n",
            "       0., 0., 0., 0., 0., 0., 0., 0., 0., 0., 0.]), 'But the man behind the wickets at the other end was watching just as keenly. With an affirmative nod from Dhoni, India captain Rohit Sharma promptly asked for a review. Sure enough, the ball would have clipped the top of middle and leg.': array([0., 0., 0., 0., 0., 0., 0., 0., 0., 0., 0., 0., 0., 0., 0., 0., 0.,\n",
            "       0., 0., 0., 0., 0., 0., 0., 0., 0., 0., 0., 0., 0., 0., 0., 0., 0.,\n",
            "       0., 0., 0., 0., 0., 0., 0., 0., 0., 0., 0., 0., 0., 0., 0., 0., 0.,\n",
            "       0., 0., 0., 0., 0., 0., 0., 0., 0., 0., 0., 0., 0., 0., 0., 0., 0.,\n",
            "       0., 0., 0., 0., 0., 0., 0., 0., 0., 0., 0., 0., 0., 0., 0., 0., 0.,\n",
            "       0., 0., 0., 0., 0., 0., 0., 0., 0., 0., 0., 0., 0., 0., 0., 0., 0.,\n",
            "       0., 0., 0., 0., 0., 0., 0., 0., 0., 0., 0., 0., 0., 0., 0., 0., 0.,\n",
            "       0., 0., 0., 0., 0., 0., 0., 0., 0., 0., 0., 0., 0., 0., 0., 0., 0.,\n",
            "       0., 0., 0., 0., 0., 0., 0., 0., 0., 0., 0., 0., 0., 0., 0., 0., 0.,\n",
            "       0., 0., 0., 0., 0., 0., 0., 0., 0., 0., 0., 0., 0., 0., 0., 0., 0.,\n",
            "       0., 0., 0., 0., 0., 0., 0., 0., 0., 0., 0., 0., 0., 0., 0., 0., 0.,\n",
            "       0., 0., 0., 0., 0., 0., 0., 0., 0., 0., 0., 0., 0., 0., 0., 0., 0.,\n",
            "       0., 0., 0., 0., 0., 0., 0., 0., 0., 0., 0., 0., 0., 0., 0., 0., 0.,\n",
            "       0., 0., 0., 0., 0., 0., 0., 0., 0., 0., 0., 0., 0., 0., 0., 0., 0.,\n",
            "       0., 0., 0., 0., 0., 0., 0., 0., 0., 0., 0., 0., 0., 0., 0., 0., 0.,\n",
            "       0., 0., 0., 0., 0., 0., 0., 0., 0., 0., 0., 0., 0., 0., 0., 0., 0.,\n",
            "       0., 0., 0., 0., 0., 0., 0., 0., 0., 0., 0., 0., 0., 0., 0., 0., 0.,\n",
            "       0., 0., 0., 0., 0., 0., 0., 0., 0., 0., 0.])}\n"
          ]
        }
      ]
    },
    {
      "cell_type": "code",
      "source": [
        "# Rank all the documents based on the similarity to get relevant docs\n",
        "def Ranked_documents (query):\n",
        "    query_words= (np.mean(np.array([get_embedding(x) for x in nltk.word_tokenize(query.lower())],dtype=float), axis=0))\n",
        "    rank =[]\n",
        "    for k,v in out_dict.items():\n",
        "      rank.append((k, get_sim(query_words, v)))\n",
        "    rank = sorted(rank,key=lambda t: t[1], reverse=True)\n",
        "    print('Ranked Documents :')\n",
        "    return rank"
      ],
      "metadata": {
        "id": "JNQx7j78sJXJ"
      },
      "execution_count": null,
      "outputs": []
    },
    {
      "cell_type": "code",
      "source": [
        "# Call the IR function with a query\n",
        "Ranked_documents(\"cricket\")"
      ],
      "metadata": {
        "colab": {
          "base_uri": "https://localhost:8080/"
        },
        "id": "BAS2xj5YsqAD",
        "outputId": "814c864e-96f2-4f31-9704-89053990af31"
      },
      "execution_count": null,
      "outputs": [
        {
          "output_type": "stream",
          "name": "stdout",
          "text": [
            "Ranked Documents :\n"
          ]
        },
        {
          "output_type": "stream",
          "name": "stderr",
          "text": [
            "/usr/local/lib/python3.10/dist-packages/scipy/spatial/distance.py:636: RuntimeWarning: invalid value encountered in double_scalars\n",
            "  dist = 1.0 - uv / np.sqrt(uu * vv)\n"
          ]
        },
        {
          "output_type": "execute_result",
          "data": {
            "text/plain": [
              "[('With the Union cabinet approving the amendments to the Motor Vehicles Act, 2016, those caught for drunken driving will have to have really deep pockets, as the fine payable in court has been enhanced to Rs 10,000 for first-time offenders.',\n",
              "  [1]),\n",
              " ('Natural language processing (NLP) is an area of computer science and artificial intelligence concerned with the interactions between computers and human (natural) languages, in particular how to program computers to process and analyze large amounts of natural language data.',\n",
              "  [1]),\n",
              " ('He points out that public transport is very good in Mumbai and New Delhi, where there is a good network of suburban and metro rail systems.',\n",
              "  [1]),\n",
              " ('But the man behind the wickets at the other end was watching just as keenly. With an affirmative nod from Dhoni, India captain Rohit Sharma promptly asked for a review. Sure enough, the ball would have clipped the top of middle and leg.',\n",
              "  [1]),\n",
              " ('The education system plays a pivotal role in shaping the future of society by providing individuals with the knowledge and skills necessary to succeed in life. It encompasses various levels, from early childhood education to higher education, and aims to foster intellectual development, critical thinking, and personal growth. A strong education system not only imparts academic knowledge but also promotes social integration, character development, and the pursuit of lifelong learning.',\n",
              "  [1]),\n",
              " (' The development of vaccines, pharmaceuticals, and medical devices has significantly extended life expectancy and enhanced our ability to combat various diseases. In the face of global health challenges, such as the COVID-19 pandemic, medical science has played a crucial role in global response efforts, highlighting the vital importance of a robust and adaptable healthcare system. Medical research continues to unlock new frontiers, offering hope for better and more personalized healthcare solutions in the future.',\n",
              "  [1]),\n",
              " ('Aviation is a dynamic and essential industry that encompasses the design, manufacturing, operation, and maintenance of aircraft. From commercial airlines connecting people across the globe to military aviation safeguarding nations, the field of aviation is a critical pillar of modern society. It continues to advance with cutting-edge technology, making air travel safer, more efficient, and environmentally friendly. The aviation sector is not only about airplanes but also includes helicopters, drones, and spacecraft, contributing to economic growth, global connectivity, and scientific exploration. This industry holds the promise of an exciting future, with ongoing innovations that improve both travel and our understanding of the world beyond our atmosphere.',\n",
              "  [1])]"
            ]
          },
          "metadata": {},
          "execution_count": 26
        }
      ]
    },
    {
      "cell_type": "code",
      "source": [
        "# Let's take one more example as may be driving.\n",
        "Ranked_documents(\"driving is cool on National Highways\")"
      ],
      "metadata": {
        "colab": {
          "base_uri": "https://localhost:8080/"
        },
        "id": "yv962nSqtPbK",
        "outputId": "b8f6e857-3ab8-4422-eafe-7009db2be836"
      },
      "execution_count": null,
      "outputs": [
        {
          "output_type": "stream",
          "name": "stdout",
          "text": [
            "Ranked Documents :\n"
          ]
        },
        {
          "output_type": "execute_result",
          "data": {
            "text/plain": [
              "[('With the Union cabinet approving the amendments to the Motor Vehicles Act, 2016, those caught for drunken driving will have to have really deep pockets, as the fine payable in court has been enhanced to Rs 10,000 for first-time offenders.',\n",
              "  [1]),\n",
              " ('Natural language processing (NLP) is an area of computer science and artificial intelligence concerned with the interactions between computers and human (natural) languages, in particular how to program computers to process and analyze large amounts of natural language data.',\n",
              "  [1]),\n",
              " ('He points out that public transport is very good in Mumbai and New Delhi, where there is a good network of suburban and metro rail systems.',\n",
              "  [1]),\n",
              " ('But the man behind the wickets at the other end was watching just as keenly. With an affirmative nod from Dhoni, India captain Rohit Sharma promptly asked for a review. Sure enough, the ball would have clipped the top of middle and leg.',\n",
              "  [1]),\n",
              " ('The education system plays a pivotal role in shaping the future of society by providing individuals with the knowledge and skills necessary to succeed in life. It encompasses various levels, from early childhood education to higher education, and aims to foster intellectual development, critical thinking, and personal growth. A strong education system not only imparts academic knowledge but also promotes social integration, character development, and the pursuit of lifelong learning.',\n",
              "  [1]),\n",
              " (' The development of vaccines, pharmaceuticals, and medical devices has significantly extended life expectancy and enhanced our ability to combat various diseases. In the face of global health challenges, such as the COVID-19 pandemic, medical science has played a crucial role in global response efforts, highlighting the vital importance of a robust and adaptable healthcare system. Medical research continues to unlock new frontiers, offering hope for better and more personalized healthcare solutions in the future.',\n",
              "  [1]),\n",
              " ('Aviation is a dynamic and essential industry that encompasses the design, manufacturing, operation, and maintenance of aircraft. From commercial airlines connecting people across the globe to military aviation safeguarding nations, the field of aviation is a critical pillar of modern society. It continues to advance with cutting-edge technology, making air travel safer, more efficient, and environmentally friendly. The aviation sector is not only about airplanes but also includes helicopters, drones, and spacecraft, contributing to economic growth, global connectivity, and scientific exploration. This industry holds the promise of an exciting future, with ongoing innovations that improve both travel and our understanding of the world beyond our atmosphere.',\n",
              "  [1])]"
            ]
          },
          "metadata": {},
          "execution_count": 27
        }
      ]
    },
    {
      "cell_type": "code",
      "source": [
        "# Let's take one more example as may be driving.\n",
        "Ranked_documents(\"Maintaince of aircrafts\")"
      ],
      "metadata": {
        "colab": {
          "base_uri": "https://localhost:8080/"
        },
        "id": "E-SSoYld0YUB",
        "outputId": "872d66f7-5b71-4b97-d781-762148d26c2a"
      },
      "execution_count": null,
      "outputs": [
        {
          "output_type": "stream",
          "name": "stdout",
          "text": [
            "Ranked Documents :\n"
          ]
        },
        {
          "output_type": "execute_result",
          "data": {
            "text/plain": [
              "[('With the Union cabinet approving the amendments to the Motor Vehicles Act, 2016, those caught for drunken driving will have to have really deep pockets, as the fine payable in court has been enhanced to Rs 10,000 for first-time offenders.',\n",
              "  [1]),\n",
              " ('Natural language processing (NLP) is an area of computer science and artificial intelligence concerned with the interactions between computers and human (natural) languages, in particular how to program computers to process and analyze large amounts of natural language data.',\n",
              "  [1]),\n",
              " ('He points out that public transport is very good in Mumbai and New Delhi, where there is a good network of suburban and metro rail systems.',\n",
              "  [1]),\n",
              " ('But the man behind the wickets at the other end was watching just as keenly. With an affirmative nod from Dhoni, India captain Rohit Sharma promptly asked for a review. Sure enough, the ball would have clipped the top of middle and leg.',\n",
              "  [1]),\n",
              " ('The education system plays a pivotal role in shaping the future of society by providing individuals with the knowledge and skills necessary to succeed in life. It encompasses various levels, from early childhood education to higher education, and aims to foster intellectual development, critical thinking, and personal growth. A strong education system not only imparts academic knowledge but also promotes social integration, character development, and the pursuit of lifelong learning.',\n",
              "  [1]),\n",
              " (' The development of vaccines, pharmaceuticals, and medical devices has significantly extended life expectancy and enhanced our ability to combat various diseases. In the face of global health challenges, such as the COVID-19 pandemic, medical science has played a crucial role in global response efforts, highlighting the vital importance of a robust and adaptable healthcare system. Medical research continues to unlock new frontiers, offering hope for better and more personalized healthcare solutions in the future.',\n",
              "  [1]),\n",
              " ('Aviation is a dynamic and essential industry that encompasses the design, manufacturing, operation, and maintenance of aircraft. From commercial airlines connecting people across the globe to military aviation safeguarding nations, the field of aviation is a critical pillar of modern society. It continues to advance with cutting-edge technology, making air travel safer, more efficient, and environmentally friendly. The aviation sector is not only about airplanes but also includes helicopters, drones, and spacecraft, contributing to economic growth, global connectivity, and scientific exploration. This industry holds the promise of an exciting future, with ongoing innovations that improve both travel and our understanding of the world beyond our atmosphere.',\n",
              "  [1])]"
            ]
          },
          "metadata": {},
          "execution_count": 29
        }
      ]
    },
    {
      "cell_type": "code",
      "source": [
        "# Let's take one more example as may be driving.\n",
        "Ranked_documents(\"COVID-19 pandamic\")"
      ],
      "metadata": {
        "colab": {
          "base_uri": "https://localhost:8080/"
        },
        "id": "9D0Rpou10Yba",
        "outputId": "230a8eb5-fa54-4c6a-9b55-5f651cfb54be"
      },
      "execution_count": null,
      "outputs": [
        {
          "output_type": "stream",
          "name": "stdout",
          "text": [
            "Ranked Documents :\n"
          ]
        },
        {
          "output_type": "execute_result",
          "data": {
            "text/plain": [
              "[('With the Union cabinet approving the amendments to the Motor Vehicles Act, 2016, those caught for drunken driving will have to have really deep pockets, as the fine payable in court has been enhanced to Rs 10,000 for first-time offenders.',\n",
              "  [1]),\n",
              " ('Natural language processing (NLP) is an area of computer science and artificial intelligence concerned with the interactions between computers and human (natural) languages, in particular how to program computers to process and analyze large amounts of natural language data.',\n",
              "  [1]),\n",
              " ('He points out that public transport is very good in Mumbai and New Delhi, where there is a good network of suburban and metro rail systems.',\n",
              "  [1]),\n",
              " ('But the man behind the wickets at the other end was watching just as keenly. With an affirmative nod from Dhoni, India captain Rohit Sharma promptly asked for a review. Sure enough, the ball would have clipped the top of middle and leg.',\n",
              "  [1]),\n",
              " ('The education system plays a pivotal role in shaping the future of society by providing individuals with the knowledge and skills necessary to succeed in life. It encompasses various levels, from early childhood education to higher education, and aims to foster intellectual development, critical thinking, and personal growth. A strong education system not only imparts academic knowledge but also promotes social integration, character development, and the pursuit of lifelong learning.',\n",
              "  [1]),\n",
              " (' The development of vaccines, pharmaceuticals, and medical devices has significantly extended life expectancy and enhanced our ability to combat various diseases. In the face of global health challenges, such as the COVID-19 pandemic, medical science has played a crucial role in global response efforts, highlighting the vital importance of a robust and adaptable healthcare system. Medical research continues to unlock new frontiers, offering hope for better and more personalized healthcare solutions in the future.',\n",
              "  [1]),\n",
              " ('Aviation is a dynamic and essential industry that encompasses the design, manufacturing, operation, and maintenance of aircraft. From commercial airlines connecting people across the globe to military aviation safeguarding nations, the field of aviation is a critical pillar of modern society. It continues to advance with cutting-edge technology, making air travel safer, more efficient, and environmentally friendly. The aviation sector is not only about airplanes but also includes helicopters, drones, and spacecraft, contributing to economic growth, global connectivity, and scientific exploration. This industry holds the promise of an exciting future, with ongoing innovations that improve both travel and our understanding of the world beyond our atmosphere.',\n",
              "  [1])]"
            ]
          },
          "metadata": {},
          "execution_count": 30
        }
      ]
    },
    {
      "cell_type": "code",
      "source": [
        "Ranked_documents(\"The education system plays a pivotal role\")"
      ],
      "metadata": {
        "colab": {
          "base_uri": "https://localhost:8080/"
        },
        "id": "ldeFKAqR0YeQ",
        "outputId": "ad9449a6-8064-447c-91a1-ab6602a33d59"
      },
      "execution_count": null,
      "outputs": [
        {
          "output_type": "stream",
          "name": "stdout",
          "text": [
            "Ranked Documents :\n"
          ]
        },
        {
          "output_type": "execute_result",
          "data": {
            "text/plain": [
              "[('With the Union cabinet approving the amendments to the Motor Vehicles Act, 2016, those caught for drunken driving will have to have really deep pockets, as the fine payable in court has been enhanced to Rs 10,000 for first-time offenders.',\n",
              "  [1]),\n",
              " ('Natural language processing (NLP) is an area of computer science and artificial intelligence concerned with the interactions between computers and human (natural) languages, in particular how to program computers to process and analyze large amounts of natural language data.',\n",
              "  [1]),\n",
              " ('He points out that public transport is very good in Mumbai and New Delhi, where there is a good network of suburban and metro rail systems.',\n",
              "  [1]),\n",
              " ('But the man behind the wickets at the other end was watching just as keenly. With an affirmative nod from Dhoni, India captain Rohit Sharma promptly asked for a review. Sure enough, the ball would have clipped the top of middle and leg.',\n",
              "  [1]),\n",
              " ('The education system plays a pivotal role in shaping the future of society by providing individuals with the knowledge and skills necessary to succeed in life. It encompasses various levels, from early childhood education to higher education, and aims to foster intellectual development, critical thinking, and personal growth. A strong education system not only imparts academic knowledge but also promotes social integration, character development, and the pursuit of lifelong learning.',\n",
              "  [1]),\n",
              " (' The development of vaccines, pharmaceuticals, and medical devices has significantly extended life expectancy and enhanced our ability to combat various diseases. In the face of global health challenges, such as the COVID-19 pandemic, medical science has played a crucial role in global response efforts, highlighting the vital importance of a robust and adaptable healthcare system. Medical research continues to unlock new frontiers, offering hope for better and more personalized healthcare solutions in the future.',\n",
              "  [1]),\n",
              " ('Aviation is a dynamic and essential industry that encompasses the design, manufacturing, operation, and maintenance of aircraft. From commercial airlines connecting people across the globe to military aviation safeguarding nations, the field of aviation is a critical pillar of modern society. It continues to advance with cutting-edge technology, making air travel safer, more efficient, and environmentally friendly. The aviation sector is not only about airplanes but also includes helicopters, drones, and spacecraft, contributing to economic growth, global connectivity, and scientific exploration. This industry holds the promise of an exciting future, with ongoing innovations that improve both travel and our understanding of the world beyond our atmosphere.',\n",
              "  [1])]"
            ]
          },
          "metadata": {},
          "execution_count": 31
        }
      ]
    },
    {
      "cell_type": "code",
      "source": [],
      "metadata": {
        "id": "OePV6AuJ0YhE"
      },
      "execution_count": null,
      "outputs": []
    }
  ]
}