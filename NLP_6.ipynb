{
  "nbformat": 4,
  "nbformat_minor": 0,
  "metadata": {
    "colab": {
      "provenance": []
    },
    "kernelspec": {
      "name": "python3",
      "display_name": "Python 3"
    },
    "language_info": {
      "name": "python"
    }
  },
  "cells": [
    {
      "cell_type": "code",
      "execution_count": null,
      "metadata": {
        "colab": {
          "base_uri": "https://localhost:8080/"
        },
        "id": "85PkbBi7NmKP",
        "outputId": "f379ee26-5cb5-4482-ae71-eb76c81b3f6e"
      },
      "outputs": [
        {
          "output_type": "stream",
          "name": "stdout",
          "text": [
            "Collecting hmmlearn\n",
            "  Downloading hmmlearn-0.3.0-cp310-cp310-manylinux_2_17_x86_64.manylinux2014_x86_64.whl (160 kB)\n",
            "\u001b[2K     \u001b[90m━━━━━━━━━━━━━━━━━━━━━━━━━━━━━━━━━━━━━━━\u001b[0m \u001b[32m160.4/160.4 kB\u001b[0m \u001b[31m2.7 MB/s\u001b[0m eta \u001b[36m0:00:00\u001b[0m\n",
            "\u001b[?25hRequirement already satisfied: numpy>=1.10 in /usr/local/lib/python3.10/dist-packages (from hmmlearn) (1.23.5)\n",
            "Requirement already satisfied: scikit-learn!=0.22.0,>=0.16 in /usr/local/lib/python3.10/dist-packages (from hmmlearn) (1.2.2)\n",
            "Requirement already satisfied: scipy>=0.19 in /usr/local/lib/python3.10/dist-packages (from hmmlearn) (1.10.1)\n",
            "Requirement already satisfied: joblib>=1.1.1 in /usr/local/lib/python3.10/dist-packages (from scikit-learn!=0.22.0,>=0.16->hmmlearn) (1.3.2)\n",
            "Requirement already satisfied: threadpoolctl>=2.0.0 in /usr/local/lib/python3.10/dist-packages (from scikit-learn!=0.22.0,>=0.16->hmmlearn) (3.2.0)\n",
            "Installing collected packages: hmmlearn\n",
            "Successfully installed hmmlearn-0.3.0\n"
          ]
        }
      ],
      "source": [
        "pip install hmmlearn"
      ]
    },
    {
      "cell_type": "code",
      "source": [
        "import numpy as np\n",
        "import matplotlib.pyplot as plt\n",
        "import seaborn as sns\n",
        "from hmmlearn import hmm"
      ],
      "metadata": {
        "id": "bp0rmE7gNttb"
      },
      "execution_count": null,
      "outputs": []
    },
    {
      "cell_type": "code",
      "source": [
        "states=[\"Rainy\",\"Cloudy\",\"Sunny\"]\n",
        "n_states=len(states)\n",
        "print('Number of hidden states :',n_states)\n",
        "observation =[\"Sad \",\"Happy\"]\n",
        "n_observations = len(observation)\n",
        "print('Number of observation:',n_observations)"
      ],
      "metadata": {
        "colab": {
          "base_uri": "https://localhost:8080/"
        },
        "id": "zlf7_bYPN7fN",
        "outputId": "08ecf32f-2ec1-412e-ff3f-1a6b28411453"
      },
      "execution_count": null,
      "outputs": [
        {
          "output_type": "stream",
          "name": "stdout",
          "text": [
            "Number of hidden states : 3\n",
            "Number of observation: 2\n"
          ]
        }
      ]
    },
    {
      "cell_type": "code",
      "source": [
        "state_probability = np.array([0.5,0.3,0.2])\n",
        "print(\"\\nstate probability:\\n\",state_probability)\n",
        "\n",
        "transition_probability = np.array([[0.5,0.3,0.2],[0.4,0.2,0.4],[0.0,0.3,0.7]])\n",
        "print(\"\\n Transition probability:\\n\",transition_probability)\n",
        "\n",
        "emission_probability = np.array([[0.9,0.1],[0.6,0.4],[0.2,0.8]])\n",
        "print(\"\\n Emission probability:\\n\",emission_probability)"
      ],
      "metadata": {
        "colab": {
          "base_uri": "https://localhost:8080/"
        },
        "id": "D9wK6eQlNtxR",
        "outputId": "ea115b36-fb10-445f-a3fd-ffe233c64ebd"
      },
      "execution_count": null,
      "outputs": [
        {
          "output_type": "stream",
          "name": "stdout",
          "text": [
            "\n",
            "state probability:\n",
            " [0.5 0.3 0.2]\n",
            "\n",
            " Transition probability:\n",
            " [[0.5 0.3 0.2]\n",
            " [0.4 0.2 0.4]\n",
            " [0.  0.3 0.7]]\n",
            "\n",
            " Emission probability:\n",
            " [[0.9 0.1]\n",
            " [0.6 0.4]\n",
            " [0.2 0.8]]\n"
          ]
        }
      ]
    },
    {
      "cell_type": "code",
      "source": [
        "model = hmm.CategoricalHMM(n_components=n_states)\n",
        "model.startprob_ = state_probability\n",
        "model.transmat_ =transition_probability\n",
        "model.emissionprob_ = emission_probability"
      ],
      "metadata": {
        "id": "6RoFuypQNt0P"
      },
      "execution_count": null,
      "outputs": []
    },
    {
      "cell_type": "code",
      "source": [
        "observations_sequence = np.array([0,1,0,1,0,0]).reshape(-1,1)\n",
        "observations_sequence\n",
        "for i in observations_sequence:\n",
        "  if observations_sequence[i]==0:\n",
        "    print(observation[0])\n",
        "  else:\n",
        "     print(observation[1])"
      ],
      "metadata": {
        "colab": {
          "base_uri": "https://localhost:8080/"
        },
        "id": "9ZWSlKTBQbLi",
        "outputId": "f602b00d-406f-42ef-cae8-33ff1e7c26c5"
      },
      "execution_count": null,
      "outputs": [
        {
          "output_type": "stream",
          "name": "stdout",
          "text": [
            "Sad \n",
            "Happy\n",
            "Sad \n",
            "Happy\n",
            "Sad \n",
            "Sad \n"
          ]
        }
      ]
    },
    {
      "cell_type": "code",
      "source": [
        "#predict the most likely sequence of hidden states\n",
        "hidden_states = model.predict(observations_sequence)\n",
        "print(\"Most likely hidden states:\", hidden_states)\n",
        "for i in hidden_states:\n",
        "  if hidden_states[i]==0:\n",
        "   print(states[0])\n",
        "  else:\n",
        "   print(states[1])"
      ],
      "metadata": {
        "colab": {
          "base_uri": "https://localhost:8080/"
        },
        "id": "I-i9l8YAX2sz",
        "outputId": "ae128fc4-2fae-4a56-fab7-8fdfec965eb4"
      },
      "execution_count": null,
      "outputs": [
        {
          "output_type": "stream",
          "name": "stdout",
          "text": [
            "Most likely hidden states: [0 1 0 1 0 0]\n",
            "Rainy\n",
            "Cloudy\n",
            "Rainy\n",
            "Cloudy\n",
            "Rainy\n",
            "Rainy\n"
          ]
        }
      ]
    }
  ]
}